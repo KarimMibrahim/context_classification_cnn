{
 "cells": [
  {
   "cell_type": "code",
   "execution_count": 1,
   "metadata": {},
   "outputs": [],
   "source": [
    "import pandas as pd\n",
    "import matplotlib.pyplot as plt\n",
    "import numpy as np\n",
    "import random\n",
    "import csv\n",
    "\n",
    "pd.options.display.max_rows = 10\n",
    "pd.options.display.max_columns = 30\n",
    "pd.options.display.float_format = '{:.2f}'.format"
   ]
  },
  {
   "cell_type": "code",
   "execution_count": 3,
   "metadata": {},
   "outputs": [],
   "source": [
    "# Mathcing exact word and not partials\n",
    "import re\n",
    "\n",
    "def findWholeWord(w):\n",
    "    return re.compile(r'\\b({0})\\b'.format(w), flags=re.IGNORECASE).search"
   ]
  },
  {
   "cell_type": "code",
   "execution_count": 4,
   "metadata": {},
   "outputs": [],
   "source": [
    "songdf = pd.read_csv(\"/home/research/Documents/DeezerKeywordsDataset_v2.0/playlists_songs.tsv\", \n",
    "                     delimiter = \"\\t\", quoting=csv.QUOTE_NONE, error_bad_lines=False)\n",
    "playlistsdf = pd.read_csv(\"/home/research/Documents/DeezerKeywordsDataset_v2.0/sample_playlists_title.tsv\", \n",
    "                          delimiter = \"\\t\", quoting=csv.QUOTE_NONE, error_bad_lines=False)"
   ]
  },
  {
   "cell_type": "code",
   "execution_count": 6,
   "metadata": {
    "code_folding": []
   },
   "outputs": [],
   "source": [
    "# Select playlists that contain keywords in their title\n",
    "\"\"\"\n",
    "Already found in matches column from Florian\n",
    "\"\"\"\n",
    "\n",
    "most_common_keywords = [\"dance\",\"chill\",\"party\",\"summer\",\"relax\",\"night\",\"sad\",\"gym\",\"work\",\"park\",\n",
    "                        \"happy\",\"club\",\"running\",\"workout\",\"car\",\"sleep\",\"training\",\"train\",\"shower\",\"morning\"]\n",
    "indices = pd.DataFrame(columns = [\"playlist_id\",\"keywords\"])\n",
    "for word in most_common_keywords:\n",
    "    for index, row in playlistsdf.iterrows():\n",
    "        #if word in row.title.lower():\n",
    "        if findWholeWord(word)(row.title.lower()):\n",
    "            indices = indices.append({'playlist_id': row.playlist_id, \"keywords\" : word},ignore_index = True)\n",
    "playlist_20_common_keywords = playlistsdf[playlistsdf.playlist_id.isin(indices.playlist_id)]"
   ]
  },
  {
   "cell_type": "code",
   "execution_count": 15,
   "metadata": {},
   "outputs": [],
   "source": [
    "#s = pd.Series([True, False, False, True, False], name='bools')\n",
    "#playlistsdf = playlistsdf[[\"love\" not in x for x in playlistsdf.matches]]"
   ]
  },
  {
   "cell_type": "code",
   "execution_count": 16,
   "metadata": {},
   "outputs": [
    {
     "name": "stdout",
     "output_type": "stream",
     "text": [
      "Found 66075 songs existing in at least 3 contextual playlists that contain common context keyword\n"
     ]
    }
   ],
   "source": [
    "songs_top20_df = songdf.merge(indices,on='playlist_id',how='inner')\n",
    "grouped_songs = songs_top20_df.groupby(['song_id','keywords']).count()\n",
    "grouped_songs.reset_index(inplace=True)\n",
    "grouped_songs.rename(columns={'playlist_id':'playlists_count'}, inplace = True)\n",
    "songs_top20_df_filtered = grouped_songs[grouped_songs.playlists_count >= 3]\n",
    "songs_IDs_20_common_keywords = songs_top20_df_filtered.song_id.unique()\n",
    "with open (\"/home/research/Documents/DeezerKeywordsDataset_v2.0/unique_songs_IDs_v2.0.csv\", 'w') as fl: \n",
    "    for song_id in songs_IDs_20_common_keywords:\n",
    "        fl.write(str(song_id)+\"\\n\")\n",
    "print(\"Found \" + str(len(songs_IDs_20_common_keywords)) + \n",
    "      \" songs existing in at least 3 contextual playlists that contain common context keyword\")"
   ]
  },
  {
   "cell_type": "code",
   "execution_count": 17,
   "metadata": {},
   "outputs": [
    {
     "name": "stdout",
     "output_type": "stream",
     "text": [
      "    song_id keywords  playlists_count\n",
      "11   204074     club                6\n",
      "12   204074    dance               37\n",
      "13   204074      gym                3\n",
      "14   204074  morning                1\n",
      "15   204074    night                2\n",
      "16   204074    party                4\n",
      "17   204074   summer                1\n",
      "18   204074     work                2\n",
      "19   204074  workout                1\n",
      "\n",
      "check the song webpage on: \n",
      "https://www.deezer.com/en/track/204074\n"
     ]
    }
   ],
   "source": [
    "# check the format of a selected song\n",
    "SelectedSong = 1\n",
    "print(grouped_songs[grouped_songs.song_id == songs_IDs_20_common_keywords[SelectedSong]])\n",
    "print(\"\\ncheck the song webpage on: \\n\" + \"https://www.deezer.com/en/track/\" + str(songs_IDs_20_common_keywords[SelectedSong]))"
   ]
  },
  {
   "cell_type": "code",
   "execution_count": 22,
   "metadata": {
    "collapsed": true
   },
   "outputs": [
    {
     "data": {
      "text/html": [
       "<div>\n",
       "<style scoped>\n",
       "    .dataframe tbody tr th:only-of-type {\n",
       "        vertical-align: middle;\n",
       "    }\n",
       "\n",
       "    .dataframe tbody tr th {\n",
       "        vertical-align: top;\n",
       "    }\n",
       "\n",
       "    .dataframe thead th {\n",
       "        text-align: right;\n",
       "    }\n",
       "</style>\n",
       "<table border=\"1\" class=\"dataframe\">\n",
       "  <thead>\n",
       "    <tr style=\"text-align: right;\">\n",
       "      <th></th>\n",
       "      <th>playlist_id</th>\n",
       "      <th>song_id</th>\n",
       "      <th>keywords</th>\n",
       "    </tr>\n",
       "  </thead>\n",
       "  <tbody>\n",
       "    <tr>\n",
       "      <th>12158</th>\n",
       "      <td>43641617</td>\n",
       "      <td>204074</td>\n",
       "      <td>dance</td>\n",
       "    </tr>\n",
       "    <tr>\n",
       "      <th>12191</th>\n",
       "      <td>68927235</td>\n",
       "      <td>204074</td>\n",
       "      <td>dance</td>\n",
       "    </tr>\n",
       "    <tr>\n",
       "      <th>39151</th>\n",
       "      <td>38807899</td>\n",
       "      <td>204074</td>\n",
       "      <td>club</td>\n",
       "    </tr>\n",
       "    <tr>\n",
       "      <th>41638</th>\n",
       "      <td>1099519211</td>\n",
       "      <td>204074</td>\n",
       "      <td>dance</td>\n",
       "    </tr>\n",
       "    <tr>\n",
       "      <th>77063</th>\n",
       "      <td>46984042</td>\n",
       "      <td>204074</td>\n",
       "      <td>gym</td>\n",
       "    </tr>\n",
       "    <tr>\n",
       "      <th>...</th>\n",
       "      <td>...</td>\n",
       "      <td>...</td>\n",
       "      <td>...</td>\n",
       "    </tr>\n",
       "    <tr>\n",
       "      <th>2369881</th>\n",
       "      <td>17114672</td>\n",
       "      <td>204074</td>\n",
       "      <td>dance</td>\n",
       "    </tr>\n",
       "    <tr>\n",
       "      <th>2385896</th>\n",
       "      <td>1028037731</td>\n",
       "      <td>204074</td>\n",
       "      <td>work</td>\n",
       "    </tr>\n",
       "    <tr>\n",
       "      <th>2439318</th>\n",
       "      <td>28306008</td>\n",
       "      <td>204074</td>\n",
       "      <td>dance</td>\n",
       "    </tr>\n",
       "    <tr>\n",
       "      <th>2522721</th>\n",
       "      <td>41367159</td>\n",
       "      <td>204074</td>\n",
       "      <td>dance</td>\n",
       "    </tr>\n",
       "    <tr>\n",
       "      <th>2536798</th>\n",
       "      <td>68492505</td>\n",
       "      <td>204074</td>\n",
       "      <td>dance</td>\n",
       "    </tr>\n",
       "  </tbody>\n",
       "</table>\n",
       "<p>57 rows × 3 columns</p>\n",
       "</div>"
      ],
      "text/plain": [
       "        playlist_id  song_id keywords\n",
       "12158      43641617   204074    dance\n",
       "12191      68927235   204074    dance\n",
       "39151      38807899   204074     club\n",
       "41638    1099519211   204074    dance\n",
       "77063      46984042   204074      gym\n",
       "...             ...      ...      ...\n",
       "2369881    17114672   204074    dance\n",
       "2385896  1028037731   204074     work\n",
       "2439318    28306008   204074    dance\n",
       "2522721    41367159   204074    dance\n",
       "2536798    68492505   204074    dance\n",
       "\n",
       "[57 rows x 3 columns]"
      ]
     },
     "execution_count": 22,
     "metadata": {},
     "output_type": "execute_result"
    }
   ],
   "source": [
    "# check which playlists it existed\n",
    "song_playlists = songs_top20_df[songs_top20_df.song_id == songs_IDs_20_common_keywords[SelectedSong]]\n",
    "song_playlists"
   ]
  },
  {
   "cell_type": "code",
   "execution_count": 23,
   "metadata": {},
   "outputs": [
    {
     "name": "stdout",
     "output_type": "stream",
     "text": [
      "      playlist_id  editor           title matches\n",
      "1562     38807899       0  version club !    club\n",
      "\n",
      "check the playlist webpage on: \n",
      "https://www.deezer.com/en/playlist/38807899\n"
     ]
    }
   ],
   "source": [
    "# check a specific playlists that contained the selected track\n",
    "selected_playlist = 2\n",
    "selected_playlist_id = playlist_20_common_keywords[playlist_20_common_keywords.playlist_id == \n",
    "                            song_playlists.playlist_id.iloc[selected_playlist]]\n",
    "print(selected_playlist_id)\n",
    "print(\"\\ncheck the playlist webpage on: \\n\" + \"https://www.deezer.com/en/playlist/\" \n",
    "      + str(int(selected_playlist_id.playlist_id)))"
   ]
  },
  {
   "cell_type": "markdown",
   "metadata": {},
   "source": [
    "## editing the dataset as one-hot vector format"
   ]
  },
  {
   "cell_type": "code",
   "execution_count": 24,
   "metadata": {},
   "outputs": [],
   "source": [
    "songs_top20_df_filtered_hot_encoded = pd.concat([songs_top20_df_filtered,\n",
    "                pd.get_dummies(songs_top20_df_filtered['keywords'])],\n",
    "               axis=1).drop(['keywords'],axis=1)"
   ]
  },
  {
   "cell_type": "code",
   "execution_count": 25,
   "metadata": {},
   "outputs": [],
   "source": [
    "songs_top20_df_filtered_track_count_encoded = songs_top20_df_filtered_hot_encoded.copy()"
   ]
  },
  {
   "cell_type": "code",
   "execution_count": 26,
   "metadata": {},
   "outputs": [],
   "source": [
    "songs_top20_df_filtered_track_count_encoded.iloc[:,2:] = \\\n",
    "    songs_top20_df_filtered_track_count_encoded.iloc[:,2:].mul(\n",
    "    songs_top20_df_filtered_track_count_encoded.playlists_count.values, axis=\"index\")"
   ]
  },
  {
   "cell_type": "code",
   "execution_count": 28,
   "metadata": {},
   "outputs": [],
   "source": [
    "#songs_top20_df_filtered_track_count_encoded"
   ]
  },
  {
   "cell_type": "code",
   "execution_count": 29,
   "metadata": {},
   "outputs": [],
   "source": [
    "# Remove any annotation of labels occuring less than 3 times\n",
    "songs_top20_df_filtered_track_count_encoded.replace([1, 2],0,inplace=True)"
   ]
  },
  {
   "cell_type": "code",
   "execution_count": 30,
   "metadata": {},
   "outputs": [],
   "source": [
    "songs_top20_df_filtered_track_count_encoded_grouped = songs_top20_df_filtered_track_count_encoded.groupby('song_id').sum()\n",
    "songs_top20_df_filtered_track_count_encoded_grouped.reset_index(inplace = True)"
   ]
  },
  {
   "cell_type": "code",
   "execution_count": 31,
   "metadata": {},
   "outputs": [
    {
     "data": {
      "image/png": "[encoded data removed]",
      "text/plain": [
       "<Figure size 1080x720 with 1 Axes>"
      ]
     },
     "metadata": {
      "needs_background": "light"
     },
     "output_type": "display_data"
    }
   ],
   "source": [
    "boxplot = songs_top20_df_filtered_track_count_encoded.boxplot(column=['car', 'chill', 'club', \n",
    "          'dance', 'gym','happy', 'morning', 'night', 'park', 'party', 'relax', 'running', 'sad',\n",
    "          'shower', 'sleep', 'summer', 'train', 'training', 'work', 'workout'], rot=60, fontsize=15, \n",
    "          figsize = [15,10])"
   ]
  },
  {
   "cell_type": "code",
   "execution_count": 32,
   "metadata": {},
   "outputs": [],
   "source": [
    "boxplot.figure.savefig(\"/home/research/Documents/Figures/playlists_count_v2.0.png\",\n",
    "        dpi=300, format=\"png\")\n",
    "boxplot.figure.savefig(\"/home/research/Documents/Figures/playlists_count_v2.0.pdf\",\n",
    "        dpi=300, format=\"pdf\")\n",
    "boxplot.figure.savefig(\"/home/research/Documents/Figures/playlists_count_v2.0.eps\",\n",
    "        dpi=300, format=\"eps\") "
   ]
  },
  {
   "cell_type": "code",
   "execution_count": 33,
   "metadata": {
    "collapsed": true
   },
   "outputs": [
    {
     "data": {
      "text/html": [
       "<div>\n",
       "<style scoped>\n",
       "    .dataframe tbody tr th:only-of-type {\n",
       "        vertical-align: middle;\n",
       "    }\n",
       "\n",
       "    .dataframe tbody tr th {\n",
       "        vertical-align: top;\n",
       "    }\n",
       "\n",
       "    .dataframe thead th {\n",
       "        text-align: right;\n",
       "    }\n",
       "</style>\n",
       "<table border=\"1\" class=\"dataframe\">\n",
       "  <thead>\n",
       "    <tr style=\"text-align: right;\">\n",
       "      <th></th>\n",
       "      <th>song_id</th>\n",
       "      <th>playlists_count</th>\n",
       "      <th>car</th>\n",
       "      <th>chill</th>\n",
       "      <th>club</th>\n",
       "      <th>dance</th>\n",
       "      <th>gym</th>\n",
       "      <th>happy</th>\n",
       "      <th>morning</th>\n",
       "      <th>night</th>\n",
       "      <th>park</th>\n",
       "      <th>party</th>\n",
       "      <th>relax</th>\n",
       "      <th>running</th>\n",
       "      <th>sad</th>\n",
       "      <th>shower</th>\n",
       "      <th>sleep</th>\n",
       "      <th>summer</th>\n",
       "      <th>train</th>\n",
       "      <th>training</th>\n",
       "      <th>work</th>\n",
       "      <th>workout</th>\n",
       "    </tr>\n",
       "  </thead>\n",
       "  <tbody>\n",
       "    <tr>\n",
       "      <th>count</th>\n",
       "      <td>66075.00</td>\n",
       "      <td>66075.00</td>\n",
       "      <td>66075.00</td>\n",
       "      <td>66075.00</td>\n",
       "      <td>66075.00</td>\n",
       "      <td>66075.00</td>\n",
       "      <td>66075.00</td>\n",
       "      <td>66075.00</td>\n",
       "      <td>66075.00</td>\n",
       "      <td>66075.00</td>\n",
       "      <td>66075.00</td>\n",
       "      <td>66075.00</td>\n",
       "      <td>66075.00</td>\n",
       "      <td>66075.00</td>\n",
       "      <td>66075.00</td>\n",
       "      <td>66075.00</td>\n",
       "      <td>66075.00</td>\n",
       "      <td>66075.00</td>\n",
       "      <td>66075.00</td>\n",
       "      <td>66075.00</td>\n",
       "      <td>66075.00</td>\n",
       "      <td>66075.00</td>\n",
       "    </tr>\n",
       "    <tr>\n",
       "      <th>mean</th>\n",
       "      <td>152378841.69</td>\n",
       "      <td>26.44</td>\n",
       "      <td>1.13</td>\n",
       "      <td>3.54</td>\n",
       "      <td>0.37</td>\n",
       "      <td>5.46</td>\n",
       "      <td>1.42</td>\n",
       "      <td>0.55</td>\n",
       "      <td>0.21</td>\n",
       "      <td>0.58</td>\n",
       "      <td>0.00</td>\n",
       "      <td>4.46</td>\n",
       "      <td>1.01</td>\n",
       "      <td>1.12</td>\n",
       "      <td>1.05</td>\n",
       "      <td>0.22</td>\n",
       "      <td>0.35</td>\n",
       "      <td>1.84</td>\n",
       "      <td>0.13</td>\n",
       "      <td>0.72</td>\n",
       "      <td>0.94</td>\n",
       "      <td>1.31</td>\n",
       "    </tr>\n",
       "    <tr>\n",
       "      <th>std</th>\n",
       "      <td>178470546.67</td>\n",
       "      <td>89.97</td>\n",
       "      <td>5.12</td>\n",
       "      <td>10.49</td>\n",
       "      <td>2.20</td>\n",
       "      <td>22.80</td>\n",
       "      <td>6.38</td>\n",
       "      <td>3.36</td>\n",
       "      <td>1.66</td>\n",
       "      <td>2.77</td>\n",
       "      <td>0.13</td>\n",
       "      <td>18.12</td>\n",
       "      <td>4.05</td>\n",
       "      <td>5.82</td>\n",
       "      <td>8.96</td>\n",
       "      <td>1.54</td>\n",
       "      <td>2.29</td>\n",
       "      <td>10.19</td>\n",
       "      <td>0.98</td>\n",
       "      <td>4.09</td>\n",
       "      <td>3.70</td>\n",
       "      <td>6.56</td>\n",
       "    </tr>\n",
       "    <tr>\n",
       "      <th>min</th>\n",
       "      <td>200756.00</td>\n",
       "      <td>3.00</td>\n",
       "      <td>0.00</td>\n",
       "      <td>0.00</td>\n",
       "      <td>0.00</td>\n",
       "      <td>0.00</td>\n",
       "      <td>0.00</td>\n",
       "      <td>0.00</td>\n",
       "      <td>0.00</td>\n",
       "      <td>0.00</td>\n",
       "      <td>0.00</td>\n",
       "      <td>0.00</td>\n",
       "      <td>0.00</td>\n",
       "      <td>0.00</td>\n",
       "      <td>0.00</td>\n",
       "      <td>0.00</td>\n",
       "      <td>0.00</td>\n",
       "      <td>0.00</td>\n",
       "      <td>0.00</td>\n",
       "      <td>0.00</td>\n",
       "      <td>0.00</td>\n",
       "      <td>0.00</td>\n",
       "    </tr>\n",
       "    <tr>\n",
       "      <th>25%</th>\n",
       "      <td>13162924.00</td>\n",
       "      <td>3.00</td>\n",
       "      <td>0.00</td>\n",
       "      <td>0.00</td>\n",
       "      <td>0.00</td>\n",
       "      <td>0.00</td>\n",
       "      <td>0.00</td>\n",
       "      <td>0.00</td>\n",
       "      <td>0.00</td>\n",
       "      <td>0.00</td>\n",
       "      <td>0.00</td>\n",
       "      <td>0.00</td>\n",
       "      <td>0.00</td>\n",
       "      <td>0.00</td>\n",
       "      <td>0.00</td>\n",
       "      <td>0.00</td>\n",
       "      <td>0.00</td>\n",
       "      <td>0.00</td>\n",
       "      <td>0.00</td>\n",
       "      <td>0.00</td>\n",
       "      <td>0.00</td>\n",
       "      <td>0.00</td>\n",
       "    </tr>\n",
       "    <tr>\n",
       "      <th>50%</th>\n",
       "      <td>81656608.00</td>\n",
       "      <td>6.00</td>\n",
       "      <td>0.00</td>\n",
       "      <td>0.00</td>\n",
       "      <td>0.00</td>\n",
       "      <td>0.00</td>\n",
       "      <td>0.00</td>\n",
       "      <td>0.00</td>\n",
       "      <td>0.00</td>\n",
       "      <td>0.00</td>\n",
       "      <td>0.00</td>\n",
       "      <td>0.00</td>\n",
       "      <td>0.00</td>\n",
       "      <td>0.00</td>\n",
       "      <td>0.00</td>\n",
       "      <td>0.00</td>\n",
       "      <td>0.00</td>\n",
       "      <td>0.00</td>\n",
       "      <td>0.00</td>\n",
       "      <td>0.00</td>\n",
       "      <td>0.00</td>\n",
       "      <td>0.00</td>\n",
       "    </tr>\n",
       "    <tr>\n",
       "      <th>75%</th>\n",
       "      <td>142745755.00</td>\n",
       "      <td>17.00</td>\n",
       "      <td>0.00</td>\n",
       "      <td>4.00</td>\n",
       "      <td>0.00</td>\n",
       "      <td>4.00</td>\n",
       "      <td>0.00</td>\n",
       "      <td>0.00</td>\n",
       "      <td>0.00</td>\n",
       "      <td>0.00</td>\n",
       "      <td>0.00</td>\n",
       "      <td>3.00</td>\n",
       "      <td>0.00</td>\n",
       "      <td>0.00</td>\n",
       "      <td>0.00</td>\n",
       "      <td>0.00</td>\n",
       "      <td>0.00</td>\n",
       "      <td>0.00</td>\n",
       "      <td>0.00</td>\n",
       "      <td>0.00</td>\n",
       "      <td>0.00</td>\n",
       "      <td>0.00</td>\n",
       "    </tr>\n",
       "    <tr>\n",
       "      <th>max</th>\n",
       "      <td>653159322.00</td>\n",
       "      <td>3488.00</td>\n",
       "      <td>182.00</td>\n",
       "      <td>309.00</td>\n",
       "      <td>71.00</td>\n",
       "      <td>878.00</td>\n",
       "      <td>263.00</td>\n",
       "      <td>296.00</td>\n",
       "      <td>66.00</td>\n",
       "      <td>83.00</td>\n",
       "      <td>9.00</td>\n",
       "      <td>740.00</td>\n",
       "      <td>176.00</td>\n",
       "      <td>233.00</td>\n",
       "      <td>569.00</td>\n",
       "      <td>58.00</td>\n",
       "      <td>105.00</td>\n",
       "      <td>417.00</td>\n",
       "      <td>38.00</td>\n",
       "      <td>304.00</td>\n",
       "      <td>102.00</td>\n",
       "      <td>299.00</td>\n",
       "    </tr>\n",
       "  </tbody>\n",
       "</table>\n",
       "</div>"
      ],
      "text/plain": [
       "           song_id  playlists_count      car    chill     club    dance  \\\n",
       "count     66075.00         66075.00 66075.00 66075.00 66075.00 66075.00   \n",
       "mean  152378841.69            26.44     1.13     3.54     0.37     5.46   \n",
       "std   178470546.67            89.97     5.12    10.49     2.20    22.80   \n",
       "min      200756.00             3.00     0.00     0.00     0.00     0.00   \n",
       "25%    13162924.00             3.00     0.00     0.00     0.00     0.00   \n",
       "50%    81656608.00             6.00     0.00     0.00     0.00     0.00   \n",
       "75%   142745755.00            17.00     0.00     4.00     0.00     4.00   \n",
       "max   653159322.00          3488.00   182.00   309.00    71.00   878.00   \n",
       "\n",
       "           gym    happy  morning    night     park    party    relax  running  \\\n",
       "count 66075.00 66075.00 66075.00 66075.00 66075.00 66075.00 66075.00 66075.00   \n",
       "mean      1.42     0.55     0.21     0.58     0.00     4.46     1.01     1.12   \n",
       "std       6.38     3.36     1.66     2.77     0.13    18.12     4.05     5.82   \n",
       "min       0.00     0.00     0.00     0.00     0.00     0.00     0.00     0.00   \n",
       "25%       0.00     0.00     0.00     0.00     0.00     0.00     0.00     0.00   \n",
       "50%       0.00     0.00     0.00     0.00     0.00     0.00     0.00     0.00   \n",
       "75%       0.00     0.00     0.00     0.00     0.00     3.00     0.00     0.00   \n",
       "max     263.00   296.00    66.00    83.00     9.00   740.00   176.00   233.00   \n",
       "\n",
       "           sad   shower    sleep   summer    train  training     work  workout  \n",
       "count 66075.00 66075.00 66075.00 66075.00 66075.00  66075.00 66075.00 66075.00  \n",
       "mean      1.05     0.22     0.35     1.84     0.13      0.72     0.94     1.31  \n",
       "std       8.96     1.54     2.29    10.19     0.98      4.09     3.70     6.56  \n",
       "min       0.00     0.00     0.00     0.00     0.00      0.00     0.00     0.00  \n",
       "25%       0.00     0.00     0.00     0.00     0.00      0.00     0.00     0.00  \n",
       "50%       0.00     0.00     0.00     0.00     0.00      0.00     0.00     0.00  \n",
       "75%       0.00     0.00     0.00     0.00     0.00      0.00     0.00     0.00  \n",
       "max     569.00    58.00   105.00   417.00    38.00    304.00   102.00   299.00  "
      ]
     },
     "execution_count": 33,
     "metadata": {},
     "output_type": "execute_result"
    }
   ],
   "source": [
    "songs_top20_df_filtered_track_count_encoded_grouped.describe()"
   ]
  },
  {
   "cell_type": "code",
   "execution_count": 34,
   "metadata": {
    "code_folding": [
     0
    ],
    "collapsed": true
   },
   "outputs": [
    {
     "data": {
      "text/html": [
       "<div>\n",
       "<style scoped>\n",
       "    .dataframe tbody tr th:only-of-type {\n",
       "        vertical-align: middle;\n",
       "    }\n",
       "\n",
       "    .dataframe tbody tr th {\n",
       "        vertical-align: top;\n",
       "    }\n",
       "\n",
       "    .dataframe thead th {\n",
       "        text-align: right;\n",
       "    }\n",
       "</style>\n",
       "<table border=\"1\" class=\"dataframe\">\n",
       "  <thead>\n",
       "    <tr style=\"text-align: right;\">\n",
       "      <th></th>\n",
       "      <th>song_id</th>\n",
       "      <th>playlists_count</th>\n",
       "      <th>car</th>\n",
       "      <th>chill</th>\n",
       "      <th>club</th>\n",
       "      <th>dance</th>\n",
       "      <th>gym</th>\n",
       "      <th>happy</th>\n",
       "      <th>morning</th>\n",
       "      <th>night</th>\n",
       "      <th>park</th>\n",
       "      <th>party</th>\n",
       "      <th>relax</th>\n",
       "      <th>running</th>\n",
       "      <th>sad</th>\n",
       "      <th>shower</th>\n",
       "      <th>sleep</th>\n",
       "      <th>summer</th>\n",
       "      <th>train</th>\n",
       "      <th>training</th>\n",
       "      <th>work</th>\n",
       "      <th>workout</th>\n",
       "    </tr>\n",
       "  </thead>\n",
       "  <tbody>\n",
       "    <tr>\n",
       "      <th>48488</th>\n",
       "      <td>139470659</td>\n",
       "      <td>3488</td>\n",
       "      <td>182</td>\n",
       "      <td>294</td>\n",
       "      <td>27</td>\n",
       "      <td>633</td>\n",
       "      <td>201</td>\n",
       "      <td>140</td>\n",
       "      <td>50</td>\n",
       "      <td>82</td>\n",
       "      <td>3</td>\n",
       "      <td>740</td>\n",
       "      <td>80</td>\n",
       "      <td>220</td>\n",
       "      <td>31</td>\n",
       "      <td>58</td>\n",
       "      <td>31</td>\n",
       "      <td>327</td>\n",
       "      <td>38</td>\n",
       "      <td>80</td>\n",
       "      <td>102</td>\n",
       "      <td>169</td>\n",
       "    </tr>\n",
       "  </tbody>\n",
       "</table>\n",
       "</div>"
      ],
      "text/plain": [
       "         song_id  playlists_count  car  chill  club  dance  gym  happy  \\\n",
       "48488  139470659             3488  182    294    27    633  201    140   \n",
       "\n",
       "       morning  night  park  party  relax  running  sad  shower  sleep  \\\n",
       "48488       50     82     3    740     80      220   31      58     31   \n",
       "\n",
       "       summer  train  training  work  workout  \n",
       "48488     327     38        80   102      169  "
      ]
     },
     "metadata": {},
     "output_type": "display_data"
    },
    {
     "name": "stdout",
     "output_type": "stream",
     "text": [
      "\n",
      "check the playlist webpage on: \n",
      "https://www.deezer.com/en/track/139470659\n"
     ]
    }
   ],
   "source": [
    "# What is the most popular track?\n",
    "most_popular_song = songs_top20_df_filtered_track_count_encoded_grouped[\n",
    "    songs_top20_df_filtered_track_count_encoded_grouped.playlists_count \n",
    "    == songs_top20_df_filtered_track_count_encoded_grouped.playlists_count.max()]\n",
    "display(most_popular_song)\n",
    "print(\"\\ncheck the playlist webpage on: \\n\" + \"https://www.deezer.com/en/track/\" \n",
    "      + str(int(most_popular_song.song_id)))"
   ]
  },
  {
   "cell_type": "code",
   "execution_count": 35,
   "metadata": {
    "code_folding": [
     0
    ],
    "collapsed": true
   },
   "outputs": [
    {
     "data": {
      "text/html": [
       "<div>\n",
       "<style scoped>\n",
       "    .dataframe tbody tr th:only-of-type {\n",
       "        vertical-align: middle;\n",
       "    }\n",
       "\n",
       "    .dataframe tbody tr th {\n",
       "        vertical-align: top;\n",
       "    }\n",
       "\n",
       "    .dataframe thead th {\n",
       "        text-align: right;\n",
       "    }\n",
       "</style>\n",
       "<table border=\"1\" class=\"dataframe\">\n",
       "  <thead>\n",
       "    <tr style=\"text-align: right;\">\n",
       "      <th></th>\n",
       "      <th>song_id</th>\n",
       "      <th>playlists_count</th>\n",
       "      <th>car</th>\n",
       "      <th>chill</th>\n",
       "      <th>club</th>\n",
       "      <th>dance</th>\n",
       "      <th>gym</th>\n",
       "      <th>happy</th>\n",
       "      <th>morning</th>\n",
       "      <th>night</th>\n",
       "      <th>park</th>\n",
       "      <th>party</th>\n",
       "      <th>relax</th>\n",
       "      <th>running</th>\n",
       "      <th>sad</th>\n",
       "      <th>shower</th>\n",
       "      <th>sleep</th>\n",
       "      <th>summer</th>\n",
       "      <th>train</th>\n",
       "      <th>training</th>\n",
       "      <th>work</th>\n",
       "      <th>workout</th>\n",
       "    </tr>\n",
       "  </thead>\n",
       "  <tbody>\n",
       "    <tr>\n",
       "      <th>25285</th>\n",
       "      <td>66609426</td>\n",
       "      <td>2449</td>\n",
       "      <td>52</td>\n",
       "      <td>76</td>\n",
       "      <td>54</td>\n",
       "      <td>878</td>\n",
       "      <td>94</td>\n",
       "      <td>111</td>\n",
       "      <td>20</td>\n",
       "      <td>83</td>\n",
       "      <td>6</td>\n",
       "      <td>561</td>\n",
       "      <td>46</td>\n",
       "      <td>113</td>\n",
       "      <td>0</td>\n",
       "      <td>15</td>\n",
       "      <td>5</td>\n",
       "      <td>168</td>\n",
       "      <td>18</td>\n",
       "      <td>29</td>\n",
       "      <td>60</td>\n",
       "      <td>60</td>\n",
       "    </tr>\n",
       "  </tbody>\n",
       "</table>\n",
       "</div>"
      ],
      "text/plain": [
       "        song_id  playlists_count  car  chill  club  dance  gym  happy  \\\n",
       "25285  66609426             2449   52     76    54    878   94    111   \n",
       "\n",
       "       morning  night  park  party  relax  running  sad  shower  sleep  \\\n",
       "25285       20     83     6    561     46      113    0      15      5   \n",
       "\n",
       "       summer  train  training  work  workout  \n",
       "25285     168     18        29    60       60  "
      ]
     },
     "metadata": {},
     "output_type": "display_data"
    },
    {
     "name": "stdout",
     "output_type": "stream",
     "text": [
      "\n",
      "check the playlist webpage on: \n",
      "https://www.deezer.com/en/track/66609426\n"
     ]
    }
   ],
   "source": [
    "# Most labeled song in certain context [in this case \"Dance\"]\n",
    "most_labeled_songs = songs_top20_df_filtered_track_count_encoded_grouped[songs_top20_df_filtered_track_count_encoded_grouped.dance == songs_top20_df_filtered_track_count_encoded_grouped.dance.max()]\n",
    "display(most_labeled_songs)\n",
    "print(\"\\ncheck the playlist webpage on: \\n\" + \"https://www.deezer.com/en/track/\" \n",
    "      + str(int(most_labeled_songs.song_id)))"
   ]
  },
  {
   "cell_type": "code",
   "execution_count": 36,
   "metadata": {
    "code_folding": [
     0
    ],
    "collapsed": true
   },
   "outputs": [
    {
     "data": {
      "text/html": [
       "<div>\n",
       "<style scoped>\n",
       "    .dataframe tbody tr th:only-of-type {\n",
       "        vertical-align: middle;\n",
       "    }\n",
       "\n",
       "    .dataframe tbody tr th {\n",
       "        vertical-align: top;\n",
       "    }\n",
       "\n",
       "    .dataframe thead th {\n",
       "        text-align: right;\n",
       "    }\n",
       "</style>\n",
       "<table border=\"1\" class=\"dataframe\">\n",
       "  <thead>\n",
       "    <tr style=\"text-align: right;\">\n",
       "      <th></th>\n",
       "      <th>song_id</th>\n",
       "      <th>playlists_count</th>\n",
       "      <th>car</th>\n",
       "      <th>chill</th>\n",
       "      <th>club</th>\n",
       "      <th>dance</th>\n",
       "      <th>gym</th>\n",
       "      <th>happy</th>\n",
       "      <th>morning</th>\n",
       "      <th>night</th>\n",
       "      <th>park</th>\n",
       "      <th>party</th>\n",
       "      <th>relax</th>\n",
       "      <th>running</th>\n",
       "      <th>sad</th>\n",
       "      <th>shower</th>\n",
       "      <th>sleep</th>\n",
       "      <th>summer</th>\n",
       "      <th>train</th>\n",
       "      <th>training</th>\n",
       "      <th>work</th>\n",
       "      <th>workout</th>\n",
       "    </tr>\n",
       "  </thead>\n",
       "  <tbody>\n",
       "    <tr>\n",
       "      <th>1601</th>\n",
       "      <td>677232</td>\n",
       "      <td>623</td>\n",
       "      <td>46</td>\n",
       "      <td>44</td>\n",
       "      <td>0</td>\n",
       "      <td>37</td>\n",
       "      <td>84</td>\n",
       "      <td>9</td>\n",
       "      <td>5</td>\n",
       "      <td>9</td>\n",
       "      <td>9</td>\n",
       "      <td>42</td>\n",
       "      <td>14</td>\n",
       "      <td>58</td>\n",
       "      <td>47</td>\n",
       "      <td>3</td>\n",
       "      <td>8</td>\n",
       "      <td>11</td>\n",
       "      <td>12</td>\n",
       "      <td>89</td>\n",
       "      <td>31</td>\n",
       "      <td>65</td>\n",
       "    </tr>\n",
       "  </tbody>\n",
       "</table>\n",
       "</div>"
      ],
      "text/plain": [
       "      song_id  playlists_count  car  chill  club  dance  gym  happy  morning  \\\n",
       "1601   677232              623   46     44     0     37   84      9        5   \n",
       "\n",
       "      night  park  party  relax  running  sad  shower  sleep  summer  train  \\\n",
       "1601      9     9     42     14       58   47       3      8      11     12   \n",
       "\n",
       "      training  work  workout  \n",
       "1601        89    31       65  "
      ]
     },
     "metadata": {},
     "output_type": "display_data"
    },
    {
     "name": "stdout",
     "output_type": "stream",
     "text": [
      "\n",
      "check the playlist webpage on: \n",
      "https://www.deezer.com/en/track/677232\n"
     ]
    }
   ],
   "source": [
    "# Is park still buggy from Linkin Park?\n",
    "most_labeled_song_as_park = songs_top20_df_filtered_track_count_encoded_grouped[songs_top20_df_filtered_track_count_encoded_grouped.park == songs_top20_df_filtered_track_count_encoded_grouped.park.max()]\n",
    "display(most_labeled_song_as_park)\n",
    "print(\"\\ncheck the track webpage on: \\n\" + \"https://www.deezer.com/en/track/\" \n",
    "      + str(int(most_labeled_song_as_park.song_id)))"
   ]
  },
  {
   "cell_type": "code",
   "execution_count": 37,
   "metadata": {},
   "outputs": [],
   "source": [
    "songs_top20_df_filtered_track_count_encoded_grouped = songs_top20_df_filtered_track_count_encoded.groupby('song_id').sum()\n",
    "songs_top20_df_filtered_track_count_encoded_grouped.reset_index(inplace = True)\n",
    "\n",
    "songs_top20_df_filtered_hot_encoded_grouped = songs_top20_df_filtered_hot_encoded.groupby('song_id').sum()\n",
    "songs_top20_df_filtered_hot_encoded_grouped.reset_index(inplace = True)"
   ]
  },
  {
   "cell_type": "code",
   "execution_count": 41,
   "metadata": {},
   "outputs": [],
   "source": [
    "#Saving ground truth data\n",
    "import os\n",
    "Saving_PATH = \"/home/research/Documents/GroundTruth/v2.0\"\n",
    "\n",
    "songs_top20_df_filtered_hot_encoded_grouped.to_pickle(os.path.join(\n",
    "    Saving_PATH,\"ground_truth_hot_vector.pkl\"))\n",
    "songs_top20_df_filtered_track_count_encoded_grouped.to_pickle(os.path.join(\n",
    "    Saving_PATH,\"ground_truth_track_count_vector.pkl\"))"
   ]
  },
  {
   "cell_type": "code",
   "execution_count": null,
   "metadata": {},
   "outputs": [],
   "source": []
  },
  {
   "cell_type": "code",
   "execution_count": 49,
   "metadata": {},
   "outputs": [],
   "source": [
    "current_specs = os.listdir(\"/home/research/Documents/MelSpectograms_top20/\")\n",
    "current_specs = [x.split('.')[0] for x in current_specs]"
   ]
  },
  {
   "cell_type": "code",
   "execution_count": 64,
   "metadata": {},
   "outputs": [],
   "source": [
    "unmatched_song_ids = [x for x in list(songs_top20_df_filtered_hot_encoded_grouped.song_id) if str(x) not in current_specs]"
   ]
  },
  {
   "cell_type": "code",
   "execution_count": 65,
   "metadata": {},
   "outputs": [
    {
     "data": {
      "text/plain": [
       "32239"
      ]
     },
     "execution_count": 65,
     "metadata": {},
     "output_type": "execute_result"
    }
   ],
   "source": [
    "len(unmatched_song_ids)"
   ]
  },
  {
   "cell_type": "code",
   "execution_count": 63,
   "metadata": {},
   "outputs": [
    {
     "data": {
      "text/plain": [
       "int"
      ]
     },
     "execution_count": 63,
     "metadata": {},
     "output_type": "execute_result"
    }
   ],
   "source": [
    "unmatched_song_ids"
   ]
  },
  {
   "cell_type": "code",
   "execution_count": 67,
   "metadata": {},
   "outputs": [],
   "source": [
    "with open (\"/home/research/Documents/DeezerKeywordsDataset_v2.0/unique_songs_IDs_v2.0[mel_uncomputed].csv\", 'w') as fl: \n",
    "    for song_id in unmatched_song_ids:\n",
    "        fl.write(str(song_id)+\"\\n\")"
   ]
  },
  {
   "cell_type": "code",
   "execution_count": 83,
   "metadata": {},
   "outputs": [],
   "source": [
    "predictions_count = [list(songs_top20_df_filtered_hot_encoded_grouped.iloc[:,2:].sum())]\n",
    "class_preds_per_context = pd.DataFrame(predictions_count,columns=\n",
    "                                       songs_top20_df_filtered_hot_encoded_grouped.columns[2:])"
   ]
  },
  {
   "cell_type": "code",
   "execution_count": 84,
   "metadata": {},
   "outputs": [
    {
     "data": {
      "text/html": [
       "<div>\n",
       "<style scoped>\n",
       "    .dataframe tbody tr th:only-of-type {\n",
       "        vertical-align: middle;\n",
       "    }\n",
       "\n",
       "    .dataframe tbody tr th {\n",
       "        vertical-align: top;\n",
       "    }\n",
       "\n",
       "    .dataframe thead th {\n",
       "        text-align: right;\n",
       "    }\n",
       "</style>\n",
       "<table border=\"1\" class=\"dataframe\">\n",
       "  <thead>\n",
       "    <tr style=\"text-align: right;\">\n",
       "      <th></th>\n",
       "      <th>car</th>\n",
       "      <th>chill</th>\n",
       "      <th>club</th>\n",
       "      <th>dance</th>\n",
       "      <th>gym</th>\n",
       "      <th>happy</th>\n",
       "      <th>morning</th>\n",
       "      <th>night</th>\n",
       "      <th>park</th>\n",
       "      <th>party</th>\n",
       "      <th>relax</th>\n",
       "      <th>running</th>\n",
       "      <th>sad</th>\n",
       "      <th>shower</th>\n",
       "      <th>sleep</th>\n",
       "      <th>summer</th>\n",
       "      <th>train</th>\n",
       "      <th>training</th>\n",
       "      <th>work</th>\n",
       "      <th>workout</th>\n",
       "    </tr>\n",
       "  </thead>\n",
       "  <tbody>\n",
       "    <tr>\n",
       "      <th>0</th>\n",
       "      <td>8571</td>\n",
       "      <td>23719</td>\n",
       "      <td>3658</td>\n",
       "      <td>26407</td>\n",
       "      <td>10148</td>\n",
       "      <td>4736</td>\n",
       "      <td>2017</td>\n",
       "      <td>5740</td>\n",
       "      <td>79</td>\n",
       "      <td>22776</td>\n",
       "      <td>8696</td>\n",
       "      <td>7625</td>\n",
       "      <td>6271</td>\n",
       "      <td>2332</td>\n",
       "      <td>3261</td>\n",
       "      <td>10966</td>\n",
       "      <td>1653</td>\n",
       "      <td>6191</td>\n",
       "      <td>8465</td>\n",
       "      <td>8413</td>\n",
       "    </tr>\n",
       "  </tbody>\n",
       "</table>\n",
       "</div>"
      ],
      "text/plain": [
       "    car  chill  club  dance    gym  happy  morning  night  park  party  relax  \\\n",
       "0  8571  23719  3658  26407  10148   4736     2017   5740    79  22776   8696   \n",
       "\n",
       "   running   sad  shower  sleep  summer  train  training  work  workout  \n",
       "0     7625  6271    2332   3261   10966   1653      6191  8465     8413  "
      ]
     },
     "execution_count": 84,
     "metadata": {},
     "output_type": "execute_result"
    }
   ],
   "source": [
    "class_preds_per_context"
   ]
  },
  {
   "cell_type": "code",
   "execution_count": null,
   "metadata": {},
   "outputs": [],
   "source": []
  },
  {
   "cell_type": "code",
   "execution_count": null,
   "metadata": {},
   "outputs": [],
   "source": []
  },
  {
   "cell_type": "code",
   "execution_count": null,
   "metadata": {},
   "outputs": [],
   "source": []
  }
 ],
 "metadata": {
  "kernelspec": {
   "display_name": "Python 3",
   "language": "python",
   "name": "python3"
  },
  "language_info": {
   "codemirror_mode": {
    "name": "ipython",
    "version": 3
   },
   "file_extension": ".py",
   "mimetype": "text/x-python",
   "name": "python",
   "nbconvert_exporter": "python",
   "pygments_lexer": "ipython3",
   "version": "3.5.2"
  }
 },
 "nbformat": 4,
 "nbformat_minor": 2
}
