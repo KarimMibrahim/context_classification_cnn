{
 "cells": [
  {
   "cell_type": "code",
   "execution_count": 9,
   "metadata": {},
   "outputs": [],
   "source": [
    "import pandas as pd \n",
    "import numpy as np \n",
    "import implicit\n",
    "from scipy.sparse import csr_matrix\n"
   ]
  },
  {
   "cell_type": "code",
   "execution_count": 13,
   "metadata": {},
   "outputs": [],
   "source": [
    "hot_encoded = pd.read_csv(\"/home/karim/Documents/research/sourceCode/context_classification_cnn/GroundTruth/balanced_ground_truth_hot_vector.csv\")\n",
    "sparse_matrix = csr_matrix(hot_encoded.iloc[:,1:].values)"
   ]
  },
  {
   "cell_type": "code",
   "execution_count": 59,
   "metadata": {},
   "outputs": [
    {
     "data": {
      "application/vnd.jupyter.widget-view+json": {
       "model_id": "94381be460f64ce19707323b48872156",
       "version_major": 2,
       "version_minor": 0
      },
      "text/plain": [
       "HBox(children=(IntProgress(value=0), HTML(value='')))"
      ]
     },
     "metadata": {},
     "output_type": "display_data"
    },
    {
     "name": "stdout",
     "output_type": "stream",
     "text": [
      "\n"
     ]
    }
   ],
   "source": [
    "# initialize a model\n",
    "model = implicit.als.AlternatingLeastSquares(factors=10, iterations=100, calculate_training_loss = True)\n",
    "\n",
    "# train the model on a sparse matrix of item/user/confidence weights\n",
    "model.fit(sparse_matrix)"
   ]
  },
  {
   "cell_type": "code",
   "execution_count": 92,
   "metadata": {},
   "outputs": [
    {
     "data": {
      "text/plain": [
       "15685.0"
      ]
     },
     "execution_count": 92,
     "metadata": {},
     "output_type": "execute_result"
    }
   ],
   "source": [
    "np.sum(np.abs(np.matmul(model.item_factors,model.user_factors.T) - hot_encoded.iloc[:,1:].values))"
   ]
  },
  {
   "cell_type": "code",
   "execution_count": 90,
   "metadata": {},
   "outputs": [],
   "source": [
    "track_embeddings = pd.DataFrame(model.item_factors)\n",
    "track_embeddings[\"song_id\"] = hot_encoded.song_id\n",
    "cols = track_embeddings.columns.tolist()\n",
    "cols = cols[-1:] + cols[:-1]\n",
    "track_embeddings = track_embeddings[cols]\n",
    "track_embeddings.to_csv(\"/home/karim/Documents/research/sourceCode/context_classification_cnn/GroundTruth/tracks_embeddings_groundtruth.csv\",index = False)"
   ]
  },
  {
   "cell_type": "code",
   "execution_count": 97,
   "metadata": {},
   "outputs": [],
   "source": [
    "# Getting training validation and test splits\n",
    "trainings = pd.read_csv(\"/home/karim/Documents/research/sourceCode/context_classification_cnn/GroundTruth/train_ground_truth.csv\")\n",
    "validations = pd.read_csv(\"/home/karim/Documents/research/sourceCode/context_classification_cnn/GroundTruth/validation_ground_truth.csv\")\n",
    "test = pd.read_csv(\"/home/karim/Documents/research/sourceCode/context_classification_cnn/GroundTruth/test_ground_truth.csv\")\n",
    "train_embeddings = track_embeddings[track_embeddings.song_id.isin(trainings.song_id)]\n",
    "valid_embeddings = track_embeddings[track_embeddings.song_id.isin(validations.song_id)]\n",
    "test_embeddings = track_embeddings[track_embeddings.song_id.isin(test.song_id)]\n",
    "\n",
    "    train_embeddings.to_csv(\"/home/karim/Documents/research/sourceCode/context_classification_cnn/GroundTruth/train_embeddings_groundtruth.csv\",index = False)\n",
    "valid_embeddings.to_csv(\"/home/karim/Documents/research/sourceCode/context_classification_cnn/GroundTruth/validation_embeddings_groundtruth.csv\",index = False)\n",
    "test_embeddings.to_csv(\"/home/karim/Documents/research/sourceCode/context_classification_cnn/GroundTruth/test_embeddings_groundtruth.csv\",index = False)"
   ]
  },
  {
   "cell_type": "code",
   "execution_count": 91,
   "metadata": {},
   "outputs": [],
   "source": [
    "context_embeddings = pd.DataFrame(model.user_factors)\n",
    "context_embeddings[\"context\"] = hot_encoded.columns[1:]\n",
    "cols = context_embeddings.columns.tolist()\n",
    "cols = cols[-1:] + cols[:-1]\n",
    "context_embeddings = context_embeddings[cols]\n",
    "context_embeddings.to_csv(\"/home/karim/Documents/research/sourceCode/context_classification_cnn/GroundTruth/context_embeddings.csv\",index = False)"
   ]
  },
  {
   "cell_type": "code",
   "execution_count": null,
   "metadata": {},
   "outputs": [],
   "source": []
  },
  {
   "cell_type": "code",
   "execution_count": 100,
   "metadata": {},
   "outputs": [],
   "source": [
    "predicts = np.loadtxt(\"/home/karim/Documents/research/exeriment_results_server_backup/experiments_results/embeddings_C4/2019-09-11_15-18-58/predicted_embedings.out\",delimiter=',')"
   ]
  },
  {
   "cell_type": "code",
   "execution_count": 102,
   "metadata": {},
   "outputs": [
    {
     "data": {
      "text/plain": [
       "array([[0.37872151, 0.57213471, 0.28169027, ..., 0.38025338, 0.41720732,\n",
       "        0.23606426],\n",
       "       [0.37872151, 0.57213471, 0.28169027, ..., 0.38025338, 0.41720732,\n",
       "        0.23606426],\n",
       "       [0.37872151, 0.57213471, 0.28169027, ..., 0.38025338, 0.41720732,\n",
       "        0.23606426],\n",
       "       ...,\n",
       "       [0.37872151, 0.57213471, 0.28169027, ..., 0.38025338, 0.41720732,\n",
       "        0.23606426],\n",
       "       [0.37872151, 0.57213471, 0.28169027, ..., 0.38025338, 0.41720732,\n",
       "        0.23606426],\n",
       "       [0.37872999, 0.57214741, 0.28169725, ..., 0.38026331, 0.41721609,\n",
       "        0.2360718 ]])"
      ]
     },
     "execution_count": 102,
     "metadata": {},
     "output_type": "execute_result"
    }
   ],
   "source": [
    "np.matmul(predicts,model.user_factors.T)"
   ]
  },
  {
   "cell_type": "code",
   "execution_count": 103,
   "metadata": {},
   "outputs": [
    {
     "ename": "NameError",
     "evalue": "name 'os' is not defined",
     "output_type": "error",
     "traceback": [
      "\u001b[0;31m---------------------------------------------------------------------------\u001b[0m",
      "\u001b[0;31mNameError\u001b[0m                                 Traceback (most recent call last)",
      "\u001b[0;32m<ipython-input-103-2f04bd156918>\u001b[0m in \u001b[0;36m<module>\u001b[0;34m\u001b[0m\n\u001b[1;32m      1\u001b[0m context_embeddings = pd.read_csv(\n\u001b[0;32m----> 2\u001b[0;31m             os.path.join(SOURCE_PATH, \"GroundTruth/context_embeddings.csv\"))\n\u001b[0m",
      "\u001b[0;31mNameError\u001b[0m: name 'os' is not defined"
     ]
    }
   ],
   "source": [
    "context_embeddings = pd.read_csv(\n",
    "            os.path.join(SOURCE_PATH, \"GroundTruth/context_embeddings.csv\"))\n"
   ]
  },
  {
   "cell_type": "code",
   "execution_count": null,
   "metadata": {},
   "outputs": [],
   "source": []
  }
 ],
 "metadata": {
  "kernelspec": {
   "display_name": "Python 3",
   "language": "python",
   "name": "python3"
  },
  "language_info": {
   "codemirror_mode": {
    "name": "ipython",
    "version": 3
   },
   "file_extension": ".py",
   "mimetype": "text/x-python",
   "name": "python",
   "nbconvert_exporter": "python",
   "pygments_lexer": "ipython3",
   "version": "3.5.2"
  }
 },
 "nbformat": 4,
 "nbformat_minor": 2
}
